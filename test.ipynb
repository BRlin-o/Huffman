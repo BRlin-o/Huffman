{
 "cells": [
  {
   "cell_type": "code",
   "execution_count": 1,
   "metadata": {},
   "outputs": [
    {
     "name": "stdout",
     "output_type": "stream",
     "text": [
      "Huffman Table: {3: '0', 1: '10', 2: '110'}\n",
      "Compressed Size: 22\n",
      "Max and Min Code Length: (3, 1)\n"
     ]
    }
   ],
   "source": [
    "import pandas as pd\n",
    "from HuffmanTree import HuffmanTree\n",
    "\n",
    "# 測試案例\n",
    "if __name__ == \"__main__\":\n",
    "    test_arr = [1, 2, 3, 1, 2, 1, 1, 2, 3, 3, 3, 3]\n",
    "    tree = HuffmanTree.init_arr(test_arr)\n",
    "    tree.limit_code_lengths()\n",
    "    huffman_table = tree.create_huffman_table()\n",
    "    print(\"Huffman Table:\", huffman_table)\n",
    "    print(\"Compressed Size:\", tree.compressed_size())\n",
    "    print(\"Max and Min Code Length:\", tree.calculate_max_min_lengths())\n",
    "\n",
    "    new_huffman = tree.to_pandas(exclude_virtual=True)\n",
    "    new_huffman.to_csv(\"output.csv\")\n",
    "    new_huffman.set_index('symbol', inplace=True)\n",
    "    new_huffman.to_dict()['code']"
   ]
  },
  {
   "cell_type": "code",
   "execution_count": 2,
   "metadata": {},
   "outputs": [
    {
     "name": "stdout",
     "output_type": "stream",
     "text": [
      "Huffman Table: {0: '00', 1: '01', 2: '100', 3: '1010', 4: '1011', 5: '1100', 6: '11010', 7: '11011', 8: '111000', 9: '111001', 10: '111010', 11: '111011', 12: '1111000', 13: '1111001', 14: '1111010', 15: '1111011', 16: '11111000', 17: '11111001', 18: '11111010', 19: '11111011', 20: '111111000', 21: '111111001', 22: '111111010', 23: '111111011', 24: '1111111000', 25: '1111111001', 26: '1111111010', 27: '11111110110', 28: '11111110111', 29: '11111111000', 30: '11111111001', 31: '11111111010', 32: '11111111011', 34: '11111111100', 33: '111111111010', 35: '111111111011', 36: '111111111100', 37: '1111111111010', 38: '1111111111011', 39: '11111111111000', 40: '11111111111001', 41: '11111111111010', 42: '11111111111011', 43: '11111111111100', 44: '111111111111010', 45: '1111111111110110', 46: '1111111111110111', 47: '1111111111111000', 48: '1111111111111001', 49: '1111111111111010', 50: '1111111111111011', 51: '1111111111111100', 52: '1111111111111101', 53: '1111111111111110'}\n",
      "Compressed Size: 279149\n",
      "Max and Min Code Length: (16, 2)\n"
     ]
    }
   ],
   "source": [
    "# 測試案例\n",
    "if __name__ == \"__main__\":\n",
    "    test_arr = pd.read_csv(\"./datasets/baboon_JPEG70.csv\")['freq'].to_dict()\n",
    "    tree = HuffmanTree.init_arr(test_arr)\n",
    "    tree.limit_code_lengths()\n",
    "    huffman_table = tree.create_huffman_table()\n",
    "    print(\"Huffman Table:\", huffman_table)\n",
    "    print(\"Compressed Size:\", tree.compressed_size())\n",
    "    print(\"Max and Min Code Length:\", tree.calculate_max_min_lengths())\n",
    "\n",
    "    new_huffman = tree.to_pandas(exclude_virtual=True)\n",
    "    new_huffman.to_csv(\"output.csv\")\n",
    "    new_huffman.set_index('symbol', inplace=True)\n",
    "    new_huffman.to_dict()['code']"
   ]
  },
  {
   "cell_type": "code",
   "execution_count": 3,
   "metadata": {},
   "outputs": [
    {
     "name": "stdout",
     "output_type": "stream",
     "text": [
      "Huffman Table: {'a1': '00', 'a2': '01', 'b': '10', 'd': '110', 'c2': '1110', 'c1': '11110'}\n",
      "Compressed Size: 41\n",
      "Max and Min Code Length: (5, 2)\n"
     ]
    }
   ],
   "source": [
    "# 測試案例\n",
    "if __name__ == \"__main__\":\n",
    "    test_arr = {'a1': 5, 'a2': 5, 'b': 3, 'c1': 1, 'c2': 1, 'd': 2} ## key: freq\n",
    "    tree = HuffmanTree.init_arr(test_arr)\n",
    "    tree.limit_code_lengths()\n",
    "    huffman_table = tree.create_huffman_table()\n",
    "    print(\"Huffman Table:\", huffman_table)\n",
    "    print(\"Compressed Size:\", tree.compressed_size())\n",
    "    print(\"Max and Min Code Length:\", tree.calculate_max_min_lengths())\n",
    "\n",
    "    new_huffman = tree.to_pandas(exclude_virtual=True)\n",
    "    new_huffman.to_csv(\"output.csv\")\n",
    "    new_huffman.set_index('symbol', inplace=True)\n",
    "    new_huffman.to_dict()['code']"
   ]
  },
  {
   "cell_type": "code",
   "execution_count": null,
   "metadata": {},
   "outputs": [],
   "source": []
  }
 ],
 "metadata": {
  "kernelspec": {
   "display_name": "DataHiding",
   "language": "python",
   "name": "python3"
  },
  "language_info": {
   "codemirror_mode": {
    "name": "ipython",
    "version": 3
   },
   "file_extension": ".py",
   "mimetype": "text/x-python",
   "name": "python",
   "nbconvert_exporter": "python",
   "pygments_lexer": "ipython3",
   "version": "3.10.9"
  }
 },
 "nbformat": 4,
 "nbformat_minor": 2
}
